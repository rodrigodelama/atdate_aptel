{
  "cells": [
    {
      "cell_type": "markdown",
      "metadata": {
        "id": "UZnLcOB1wQXT"
      },
      "source": [
        "# **Introduction to NumPy and Matplotlib**\n",
        "## **Modern Theory of Detection and Estimation** (Fall 2022)\n",
        "### **Academic year 2022/2023**\n",
        "\n",
        "\n",
        "------------------------------------------------------\n",
        "The original version was prepared for *Master in Information Health Engineering* by:\n",
        "\n",
        "*Harold Molina Bulla (h.molina@tsc.uc3m.es)*,\n",
        "*Vanessa Gómez Verdejo (vanessa@tsc.uc3m.es)* and\n",
        "*Pablo M. Olmos (olmos@tsc.uc3m.es)* \n",
        "\n",
        "------------------------------------------------------\n",
        "  \n",
        "    "
      ]
    },
    {
      "cell_type": "markdown",
      "metadata": {
        "id": "CWd6uS2U5Krr"
      },
      "source": [
        "# 1. What is NumPy?\n",
        "\n",
        "[**Numerical Python**](http://www.numpy.org/) (usually known as NumPy) is the fundamental package for scientific computing with Python. It contains among other things:\n",
        "\n",
        "- A powerful $N$-dimensional array object\n",
        "- Sophisticated (broadcasting) functions \n",
        "- Tools for integrating C/C++ and Fortran code\n",
        "- Useful linear algebra, Fourier transform and random number capabilities\n",
        "\n",
        "Besides its obvious scientific uses, NumPy can also be used as an efficient multi-dimensional container of generic data. Arbitrary data-types can be defined. This allows NumPy to seamlessly and speedily integrate with a wide variety of databases.\n",
        "\n",
        "Let's load the library and start with some examples."
      ]
    },
    {
      "cell_type": "code",
      "execution_count": null,
      "metadata": {
        "id": "TvQ3QRAXwQXa"
      },
      "outputs": [],
      "source": [
        "import numpy as np  "
      ]
    },
    {
      "cell_type": "markdown",
      "metadata": {
        "id": "5CK63qlnwQXc"
      },
      "source": [
        "# 2. Creating Arrays\n",
        "\n",
        "NumPy is a Python library that lets you work with data vectors and matrices (we will call them NumPy arrays) and directly apply operations over these arrays without the need to operate element by element.\n",
        "\n",
        "NumPy arrays can be defined directly using methods such as `.arange()`, `.ones()`, `.zeros()` or `.eye()`, as well as random number generators. Alternatively, you can easily generate them from python lists (or lists of lists) containing elements of a numerical type by using `np.array(my_list)`."
      ]
    },
    {
      "cell_type": "markdown",
      "metadata": {
        "id": "x3opz9zZ9GBI"
      },
      "source": [
        "## 2.1 Designing 1-dimensional (1D) arrays (vectors)"
      ]
    },
    {
      "cell_type": "markdown",
      "metadata": {
        "id": "Up8kZVlF_RhV"
      },
      "source": [
        " **Object:** `.array()`. This method returns an array or any (nested) sequence.\n"
      ]
    },
    {
      "cell_type": "code",
      "execution_count": null,
      "metadata": {
        "id": "q9Eq9PA_wQXc"
      },
      "outputs": [],
      "source": [
        "v1=np.array([2,4,6]) #The default type is int32 or int64 since we did not use any decimal point\n",
        "print(\"v1:\", v1, \"and its type is:\", v1.dtype)\n",
        "\n",
        "v2=np.array([2.0,4.0,6.0])\n",
        "print(\"\\nv2:\", v2, \"and its type is:\", v2.dtype)"
      ]
    },
    {
      "cell_type": "markdown",
      "metadata": {
        "id": "C2vXt3iOwQXe"
      },
      "source": [
        "The array we just created is a **vector** or 1D array and it is characterized by a single dimension. \n",
        "\n",
        "(Please note the empty second entry when we call the method `.shape()`)"
      ]
    },
    {
      "cell_type": "code",
      "execution_count": null,
      "metadata": {
        "id": "pZRF4xRNwQXe"
      },
      "outputs": [],
      "source": [
        "print(v1.shape)"
      ]
    },
    {
      "cell_type": "markdown",
      "metadata": {
        "id": "FMJNQjSwBgtJ"
      },
      "source": [
        "Let's transform `v1` into a 2-dimensional (2D) array (a matrix with a single column). How?"
      ]
    },
    {
      "cell_type": "code",
      "execution_count": null,
      "metadata": {
        "id": "UY1XBQEPGc9f"
      },
      "outputs": [],
      "source": [
        "v1 = np.reshape(v1,[v1.shape[0],1])\n",
        "print('The shape of v1 is:', v1.shape)"
      ]
    },
    {
      "cell_type": "markdown",
      "metadata": {
        "id": "EyWMz1Qov-Sz"
      },
      "source": [
        "We will see more in detail the object `.reshape()` later on, but if the curiosity gets the best of you, you can look at how this method works by yourself before ;)!"
      ]
    },
    {
      "cell_type": "markdown",
      "metadata": {
        "id": "l1DWzPkgB12d"
      },
      "source": [
        "**Object:** `.arange()`. This method generates vectors of equally spaced numbers. We can specify start and stop positions as well as the step length (the steps don't need to be integers!). Let's see an example:"
      ]
    },
    {
      "cell_type": "code",
      "execution_count": null,
      "metadata": {
        "id": "bQm34GDG84Ko"
      },
      "outputs": [],
      "source": [
        "print('A vector that goes from 2 to 8 in steps of 2: ', np.arange(2, 9, 1.5)) #start=2, stop=9 and step=1.5"
      ]
    },
    {
      "cell_type": "markdown",
      "metadata": {
        "id": "OW8o5hoe9L9o"
      },
      "source": [
        "**Object:** `.linspace()`. This method works exactly like its Matlab counterpart. We can specify start and stop positions as well as the number of samples to be generated. Please note, that in this case, the number of samples must be an integer.\n"
      ]
    },
    {
      "cell_type": "code",
      "execution_count": null,
      "metadata": {
        "id": "IkuSj-6N9PIf"
      },
      "outputs": [],
      "source": [
        "print('A vector of length 5 that spans from 0 to 1 in constant increments:', np.linspace(0, 1, 5)) #start=0, stop=0 and number of samples=5."
      ]
    },
    {
      "cell_type": "markdown",
      "metadata": {
        "id": "RmpjNBTq542c"
      },
      "source": [
        "Plase notice the difference in the last number of the range for both methods. In `.arange()`, the last number is not included in the array, but in `.linspace()`, by default, the last namber is included."
      ]
    },
    {
      "cell_type": "markdown",
      "metadata": {
        "id": "cSIwoa3H6xTy"
      },
      "source": [
        "**Object:** `.logspace()`. This method returns numbers spaced evenly on a log scale."
      ]
    },
    {
      "cell_type": "code",
      "execution_count": null,
      "metadata": {
        "id": "9pyFKViOwQXf"
      },
      "outputs": [],
      "source": [
        "v_log = np.logspace(0,10,10) # 10 elements equally spaced in the 10^0 (=1),10^10 range\n",
        "print(v_log)"
      ]
    },
    {
      "cell_type": "markdown",
      "metadata": {
        "id": "h1z0_2Zb7xTn"
      },
      "source": [
        "Try to guess, by yourself, how the rest of methods (such as, `.ones()`, `.eyes()` or .`zeros()`) work!"
      ]
    },
    {
      "cell_type": "markdown",
      "metadata": {
        "id": "5RQneSlBwQXi"
      },
      "source": [
        "## 2.2 Designing arrays (matrices or tensors)\n",
        "\n",
        "To correctly operate with NumPy arrays, we have to be aware of their dimensions. To understand this, let's start with a simple example:\n",
        "\n",
        " Are `array1` and `array2` equal?"
      ]
    },
    {
      "cell_type": "code",
      "execution_count": null,
      "metadata": {
        "id": "ChdUkbdfHud4"
      },
      "outputs": [],
      "source": [
        "array1 = np.array([1,1,1])\n",
        "print('Array1:\\n', array1)\n",
        "\n",
        "array2 = np.ones((1,3))\n",
        "print('Array2:\\n', array2)"
      ]
    },
    {
      "cell_type": "markdown",
      "metadata": {
        "id": "TpVZ16rDwQXi"
      },
      "source": [
        "Apparently, you would probably say that the only difference is the type of data of each array. But, let's check their shapes and dimensions."
      ]
    },
    {
      "cell_type": "code",
      "execution_count": null,
      "metadata": {
        "id": "4Hrx7e2cwQXi"
      },
      "outputs": [],
      "source": [
        "print('Shape of Array1 :',array1.shape)\n",
        "print('Number of dimensions of Array1 :',array1.ndim)\n",
        "print('Shape of Array2 :',array2.shape)\n",
        "print('Number of dimensions of Array2 :',array2.ndim)"
      ]
    },
    {
      "cell_type": "markdown",
      "metadata": {
        "id": "QwCpZTCkJ5Ts"
      },
      "source": [
        "The only difference isn't the type of data, but also their dimensions! "
      ]
    },
    {
      "cell_type": "markdown",
      "metadata": {
        "id": "i_f957_vBVm0"
      },
      "source": [
        "**Objects:** `.flatten()`, `.ravel()` and `.reshape()`. "
      ]
    },
    {
      "cell_type": "markdown",
      "metadata": {
        "id": "Oa7qH2QfwQXk"
      },
      "source": [
        "Effectively, `array1` is a 1D array, whereas `array2` is a 2D  array.  There are some methods that will let you modify the dimensions of an array. To convert a 2D into a 1D array, we have the methods `.flatten()`, `.ravel()` and `.reshape()`. Check the results of the following lines of code (you can use the help function to check the funcionalities of each method)."
      ]
    },
    {
      "cell_type": "code",
      "execution_count": null,
      "metadata": {
        "id": "qDvyv7kJ_DOA"
      },
      "outputs": [],
      "source": [
        "x1 = np.arange(9).reshape((3, 3))\n",
        "print('x1:\\n', x1)\n",
        "print('Its shape is: ', x1.shape)"
      ]
    },
    {
      "cell_type": "code",
      "execution_count": null,
      "metadata": {
        "id": "23f5ZqUL_EeN"
      },
      "outputs": [],
      "source": [
        "print('Use the method flatten:')\n",
        "print('x1.flatten(): ', x1.flatten())\n",
        "print('Its shape is: ', x1.flatten().shape)"
      ]
    },
    {
      "cell_type": "code",
      "execution_count": null,
      "metadata": {
        "id": "kcGtjgBj_K0m"
      },
      "outputs": [],
      "source": [
        "print('Use the method ravel:')\n",
        "print('x1.ravel(): ', x1.ravel())\n",
        "print('Its shape is:', x1.ravel().shape)"
      ]
    },
    {
      "cell_type": "code",
      "execution_count": null,
      "metadata": {
        "id": "axWrxd5b_Oun"
      },
      "outputs": [],
      "source": [
        "print('Use the method reshape:')\n",
        "print('x1.reshape(-1): ', x1.reshape(-1))\n",
        "print('Its shape is: ', x1.reshape(-1).shape)"
      ]
    },
    {
      "cell_type": "markdown",
      "metadata": {
        "id": "2JS8SxRT_ZZ1"
      },
      "source": [
        "> Please note that here the method `.reshape()` is used to reorganize the matrix into a 1D array. A more common use of `.reshape()` is to simply redimension an array from shape `(i, j)` to shape `(t, r)` satisfying the condition that $i\\times j = t\\times r$. Let's see an example.\n"
      ]
    },
    {
      "cell_type": "code",
      "execution_count": null,
      "metadata": {
        "id": "Kh6GOBEzwQXk"
      },
      "outputs": [],
      "source": [
        "print('Original x1:\\n', x1)\n",
        "x1 = np.arange(12).reshape((4, 3)) #In this example: i=4 and j=3\n",
        "print('Its shape is: ', x1.shape)\n",
        "print(\" \")\n",
        "\n",
        "print('\\nx1.reshape((2,6)):\\n', x1.reshape((2,6))) #t=2 and r=6\n",
        "print('Now, its shape is: ', x1.reshape((2,6)).shape)"
      ]
    },
    {
      "cell_type": "markdown",
      "metadata": {
        "id": "IX6mJtSowQXk"
      },
      "source": [
        "Apparently, `.flatten()`, `.ravel()` and `.reshape()` methods are similar. This is not true. \n",
        "\n",
        "`.flatten()` always returns a copy of the original vector, whereas `.ravel()` and `.reshape()` return a view of the original array whenever possible. That is, when using `.flatten()`, if you modify any value of this (flattened) array, it does not change the original array. Let's see this with an example.\n",
        "\n"
      ]
    },
    {
      "cell_type": "code",
      "execution_count": null,
      "metadata": {
        "id": "xT_ReIiAD89Z"
      },
      "outputs": [],
      "source": [
        "#ORIGINAL vector:\n",
        "# Let's create an array\n",
        "array1 = np.array([(1,2,3,4),(3,1,4,2)])\n",
        "\n",
        "# Let's print the original array\n",
        "print (\"Original Array1: \") \n",
        "print(array1)\n",
        "\n",
        "\n",
        "#RAVEL output:\n",
        "print(\"\\nOutput for RAVEL\") \n",
        "array2 = array1.ravel()\n",
        "# Ravel only passes a view of \n",
        "# original array to array 'b'\n",
        "print('Array1 after .ravel()-> Array2 =', array2)\n",
        "print('Let\\'s change the first element of Array2 (Array2[0]=1000). Do Array1 and Array2 change?')\n",
        "array2[0]=1000\n",
        "print('Array2=', array2)\n",
        "# Note here that value of original\n",
        "# array 'a' at also a[0][0] becomes 1000\n",
        "print('Array1 =\\n', array1)\n",
        "print('YES. They change!')\n",
        "\n",
        "#FLATTEN output:\n",
        "print(\"\\nOutput for FLATTEN\") \n",
        "array3 = array1.flatten()\n",
        "  \n",
        "# Flatten passes copy of\n",
        "# original array to 'c'\n",
        "print('Array1 after .flatten()-> Array3 =',array3)\n",
        "print('Let\\'s change the first element of Array3 (Array3[0]=5). Do Array1 and Array3 change?')\n",
        "array3[0]=5\n",
        "print('Array3=', array3)\n",
        "# Note that by changing value of array3[0] there is no affect on value of original array1\n",
        "print('Array1 =\\n', array1)\n",
        "print('Array3 has changed, but Array1 hasn\\'t!')"
      ]
    },
    {
      "cell_type": "markdown",
      "metadata": {
        "id": "2VhsbrufBkYV"
      },
      "source": [
        "**Object:** `.newaxis()`. Sometimes, we need to add a new dimension to an array, for example to turn a  1D array into a 2D column vector. For this purpose, we can use the method `.newaxis()`."
      ]
    },
    {
      "cell_type": "code",
      "execution_count": null,
      "metadata": {
        "id": "nmwZil2FwQXk"
      },
      "outputs": [],
      "source": [
        "# Let's start with a 1D array:\n",
        "array1 = np.array([1,1,1])\n",
        "print('1D array:\\n',array1)\n",
        "print('Its shape is: ', array1.shape)\n",
        "\n",
        "# Let's turn it into a column vector (2D array with dimension 1x3):\n",
        "array2 = array1[:,np.newaxis]\n",
        "print('\\n2D array:\\n',array2)\n",
        "print('Its shape is: ', array2.shape)\n",
        "\n",
        "# Let's turn it into a row vector (2D array with dimension 3x1):\n",
        "array3 = array1[np.newaxis,:]\n",
        "print('\\n2D array:\\n',array3)\n",
        "print('Its shape is: ', array3.shape)"
      ]
    },
    {
      "cell_type": "markdown",
      "metadata": {
        "id": "nHD2SUcDQHQd"
      },
      "source": [
        "**Object:** `.squeeze()`. Sometimes, we might also need to remove empty or unused dimensions. For this purpose, we cans use the method `.squeeze()`."
      ]
    },
    {
      "cell_type": "code",
      "execution_count": null,
      "metadata": {
        "id": "pQswe4kswQXl"
      },
      "outputs": [],
      "source": [
        "print('- Original array:', array1, 'and its shape is:', array1.shape)\n",
        "array1_1D = np.squeeze(array1)\n",
        "print('1D array:',array1_1D, 'and its shape is:', array1_1D.shape)\n",
        "\n",
        "print('\\n- Original array:\\n', array2, '\\nand its shape is:', array2.shape)\n",
        "array2_1D = np.squeeze(array2)\n",
        "print('1D array:',array2_1D, 'and its shape is:', array2_1D.shape)\n",
        "\n",
        "print('\\n- Original array:', array3, 'and its shape is:', array3.shape)\n",
        "array3_1D = np.squeeze(array3)\n",
        "print('1D array:',array3_1D, 'and its shape is:', array3_1D.shape)\n"
      ]
    },
    {
      "cell_type": "markdown",
      "metadata": {
        "id": "XAu9CsetN-Fe"
      },
      "source": [
        "> Note that `array2` and `array3` have changed their dimensions!"
      ]
    },
    {
      "cell_type": "markdown",
      "metadata": {
        "id": "qwMC_XQWSRWI"
      },
      "source": [
        "There are other some interesting objects for this course!\n",
        "\n",
        "**Object:** `.random.rand()`. It creates arrays where all elements are drawn from a **i.i.d uniform distribution**."
      ]
    },
    {
      "cell_type": "code",
      "execution_count": null,
      "metadata": {
        "id": "ntF4ts8ywQXl"
      },
      "outputs": [],
      "source": [
        "m1=np.random.rand(15) #10 elements (one dimension)\n",
        "print('m1:', m1)\n",
        "\n",
        "M1=np.random.rand(3,5) #10 elements (two dimensions)\n",
        "print('\\nM1:', M1)"
      ]
    },
    {
      "cell_type": "markdown",
      "metadata": {
        "id": "kTFL5oLlOoLj"
      },
      "source": [
        "> The dimensions of `m1` and `M1` are different!"
      ]
    },
    {
      "cell_type": "markdown",
      "metadata": {
        "id": "YrsLePnjTOQf"
      },
      "source": [
        "**Object:** `.random.normal()`. It creates arrays where all elements are drawn from a **normal (Gaussian) distribution**."
      ]
    },
    {
      "cell_type": "code",
      "execution_count": null,
      "metadata": {
        "id": "Ur5YhjimTNv6"
      },
      "outputs": [],
      "source": [
        "mu = 0 #mean \n",
        "sigma = 0.01 #standard deviation\n",
        "s = np.random.normal(mu, sigma, 10) #10 samples (or elements)\n",
        "print('s:', s)"
      ]
    },
    {
      "cell_type": "markdown",
      "metadata": {
        "id": "6qfb1sZdwQXo"
      },
      "source": [
        "## 2.3 Indexing and slicing\n",
        "\n",
        "Do you remember (from the first assigment lab) how to access to a specific position in a string? The idea is similar with arrays! \n",
        "\n",
        "(Note that the first element is indexed by 0).\n",
        "\n"
      ]
    },
    {
      "cell_type": "code",
      "execution_count": null,
      "metadata": {
        "id": "qj_LsF3RwQXo"
      },
      "outputs": [],
      "source": [
        "F = np.array([1, 1, 2, 3, 5, 8, 13, 21])"
      ]
    },
    {
      "cell_type": "code",
      "execution_count": null,
      "metadata": {
        "id": "IAnTRPiKT_jB"
      },
      "outputs": [],
      "source": [
        "# Print the first element of F\n",
        "# To fill in...\n"
      ]
    },
    {
      "cell_type": "code",
      "execution_count": null,
      "metadata": {
        "id": "msQG9JChUBNa"
      },
      "outputs": [],
      "source": [
        "# Print the last element of F\n",
        "# To fill in.."
      ]
    },
    {
      "cell_type": "markdown",
      "metadata": {
        "id": "aQe00mL9wQXp"
      },
      "source": [
        "### 2.3.1 Slicing\n",
        "\n",
        "In NumPy, **slicing** means selecting and/or **accessing specific array rows and columns**.\n",
        "\n",
        "Particular elements of NumPy arrays (both unidimensional and multidimensional) can be accessed using standard Python slicing. When working with multidimensional arrays, slicing can be carried out along several different dimensions at once. Let's see an example!\n",
        "\n"
      ]
    },
    {
      "cell_type": "code",
      "execution_count": null,
      "metadata": {
        "id": "bY958BcowQXp"
      },
      "outputs": [],
      "source": [
        "S = np.array([0, 1, 2, 3, 4, 5, 6, 7, 8, 9])"
      ]
    },
    {
      "cell_type": "markdown",
      "metadata": {
        "id": "oL2Y_rdfV48V"
      },
      "source": [
        "Try to guess the answer before executing the next lines of code!"
      ]
    },
    {
      "cell_type": "code",
      "execution_count": null,
      "metadata": {
        "id": "Nkbd0pe_V4Sl"
      },
      "outputs": [],
      "source": [
        "print(S[0:4])\n",
        "print(S[:4])\n",
        "print(S[6:])\n",
        "print(S[:])\n",
        "print(S[-2:])\n",
        "print(S[:-3])"
      ]
    },
    {
      "cell_type": "markdown",
      "metadata": {
        "id": "lE2qdQmAWY_v"
      },
      "source": [
        "What happens when using matrices? Let's see an example."
      ]
    },
    {
      "cell_type": "code",
      "execution_count": null,
      "metadata": {
        "id": "7cW4GXHJwQXp"
      },
      "outputs": [],
      "source": [
        "A = np.array([\n",
        "[11,12,13,14,15],\n",
        "[21,22,23,24,25],\n",
        "[31,32,33,34,35],\n",
        "[41,42,43,44,45],\n",
        "[51,52,53,54,55]])\n",
        "print(\"Matrix A:\\n\", A)"
      ]
    },
    {
      "cell_type": "markdown",
      "metadata": {
        "id": "XgDwp4rcWvyG"
      },
      "source": [
        "Try to guess the answer before executing the next lines of code!"
      ]
    },
    {
      "cell_type": "code",
      "execution_count": null,
      "metadata": {
        "id": "tRdJXbO_Wrye"
      },
      "outputs": [],
      "source": [
        "print(A[:3,2:])\n",
        "print(\"\")\n",
        "print(A[3:,:])\n",
        "print(\"\")\n",
        "print(A[:,4:])"
      ]
    },
    {
      "cell_type": "markdown",
      "metadata": {
        "id": "dxs37_2lXSuF"
      },
      "source": [
        "**Object:** `.where(condition)`. \n",
        "\n",
        "We have seen how slicing allows us to index over the different dimensions of a given array. In the previous examples we learned how to select the rows and columns we're interested in, but how can we select only the elements of an array that meet a specific condition?\n",
        "\n",
        "NumPy provides us with the method `.where(condition)`. A common way of using this method is by setting a condition involving an array. For example, the condition $x > 5$ will give us the indexes in which $x$ contains numbers higher than 5."
      ]
    },
    {
      "cell_type": "markdown",
      "metadata": {
        "id": "m6t0aQGnXjI-"
      },
      "source": [
        "> **Exercise 1**: Let $\\mathbf{x}$ be an array so that: $\\mathbf{x} = [-3,-2,-1,0,1,2,3]$.\n",
        "\n",
        "Now, create a new vector $\\mathbf{y}$ with the elementos of $\\mathbf{x}$, but replacing by $0$ each number whose absolute value is $2$ or less."
      ]
    },
    {
      "cell_type": "code",
      "execution_count": null,
      "metadata": {
        "id": "f3wiY9-_YVo0"
      },
      "outputs": [],
      "source": [
        "# To fill in..."
      ]
    },
    {
      "cell_type": "markdown",
      "metadata": {
        "id": "YvvllaZ8Z6v3"
      },
      "source": [
        "## 2.4 Concatenating arrays"
      ]
    },
    {
      "cell_type": "markdown",
      "metadata": {
        "id": "h5vCEm16aLJ7"
      },
      "source": [
        "**Objects:** `.hstack()` and `.vstack()`. Provided that the corresponding dimensions fit, horizontal and vertical stacking of matrices can be carried out by means of these two methods.\n",
        "\n",
        "The method `np.vstack()` stacks arrays in sequence vertically (row wise).\n",
        "\n",
        "The method `np.hstack()` stacks arrays in sequence horizontally (column wise)."
      ]
    },
    {
      "cell_type": "markdown",
      "metadata": {
        "id": "zjDw6iaDiM6g"
      },
      "source": [
        "> **Exercise**: Complete the following exercises to practice matrix concatenation. You can check your result by looking the solution in the next cell!"
      ]
    },
    {
      "cell_type": "code",
      "execution_count": null,
      "metadata": {
        "id": "lPpdLsWcwQXr"
      },
      "outputs": [],
      "source": [
        "import numpy as np\n",
        "my_array = np.array([[1, -1, 3, 3],[2, 2, 4, 6]])\n",
        "print('Array 1:')\n",
        "print(my_array)\n",
        "print(my_array.shape)\n",
        "\n",
        "my_array2 = np.ones((2,3))\n",
        "print('Array 2:')\n",
        "print(my_array2)\n",
        "print(my_array2.shape)\n",
        "\n",
        "\n",
        "# Vertically stack matrix my_array with itself and call the resulting matrix 'ex1_res'\n",
        "# To fill in...\n",
        "print('Vertically stack:')\n",
        "print(ex1_res)\n",
        "\n",
        "# Horizontally stack matrix my_array and my_array2 and call the resulting matrix 'ex2_res'\n",
        "# To fill in...\n",
        "print('Horizontally stack:')\n",
        "print(ex2_res)"
      ]
    },
    {
      "cell_type": "markdown",
      "metadata": {
        "id": "FS1T7GGowQXs"
      },
      "source": [
        "The output should be:\n",
        "\n",
        "```\n",
        "Array 1:\n",
        "[[ 1 -1  3  3]\n",
        " [ 2  2  4  6]]\n",
        "(2, 4)\n",
        "Array 2:\n",
        "[[1. 1. 1.]\n",
        " [1. 1. 1.]]\n",
        "(2, 3)\n",
        "Vertically stack:\n",
        "[[ 1 -1  3  3]\n",
        " [ 2  2  4  6]\n",
        " [ 1 -1  3  3]\n",
        " [ 2  2  4  6]]\n",
        "Horizontally stack:\n",
        "[[ 1. -1.  3.  3.  1.  1.  1.]\n",
        " [ 2.  2.  4.  6.  1.  1.  1.]]\n",
        " ```"
      ]
    },
    {
      "cell_type": "markdown",
      "metadata": {
        "id": "Wu7j_TXzwQXs"
      },
      "source": [
        "## 2.5 Some operations with arrays\n",
        "\n",
        "### 2.5.1 Element-wise operations\n",
        "\n",
        "We can perform all the usual numerical and matrix operations with NumPy. In the case of matrix addition and subtraction, we can use the common \"`+`\" or \"`-`\" operators."
      ]
    },
    {
      "cell_type": "code",
      "execution_count": null,
      "metadata": {
        "id": "TQbdS6pfwQXs"
      },
      "outputs": [],
      "source": [
        "x1 = np.arange(9).reshape((3, 3))\n",
        "x2 = np.ones((3, 3))\n",
        "result = x1 + x2\n",
        "print('x1:\\n', x1, '\\n\\nx2:\\n', x2)\n",
        "print('\\nAddition of x1 and x2 using the + operator:\\n', result)"
      ]
    },
    {
      "cell_type": "markdown",
      "metadata": {
        "id": "nTyp63LWwQXt"
      },
      "source": [
        "However, NumPy provides us with built-in functions (or methods) that guarantee that any errors and exceptions are handled properly."
      ]
    },
    {
      "cell_type": "code",
      "execution_count": null,
      "metadata": {
        "id": "kmvcYOUGwQXt"
      },
      "outputs": [],
      "source": [
        "# We can add two matrices:\n",
        "x1 = np.arange(9).reshape((3, 3))\n",
        "x2 = np.ones((3, 3))\n",
        "result = np.add(x1, x2)\n",
        "print('x1:\\n', x1, '\\n\\nx2:\\n', x2)\n",
        "print('\\nAddition of x1 and x2 using built-in functions:\\n', result)\n",
        "\n",
        "# Or compute the difference:\n",
        "result = np.subtract(x1, x2)\n",
        "print('\\nSubtraction of x1 and x2 using built-in functions:\\n', result)"
      ]
    },
    {
      "cell_type": "markdown",
      "metadata": {
        "id": "SSCXWSIJwQXt"
      },
      "source": [
        "We can also add or subtract column or row vectors from arrays. Again, both the basic operators and the built-in functions will perform the same operations. Unlike in Matlab, where this operation will raise an error, Python will automatically execute it row by row or column by column as appropriate."
      ]
    },
    {
      "cell_type": "code",
      "execution_count": null,
      "metadata": {
        "id": "GLKv3rh3wQXt"
      },
      "outputs": [],
      "source": [
        "# We can add or subtract row and column vectors:\n",
        "row_vect = np.ones((1, 3))\n",
        "col_vect = 2*np.ones((3, 1))\n",
        "result = np.add(x1, row_vect)\n",
        "print('x1:\\n', x1, '\\n\\nrow_vect:\\n', row_vect, '\\n\\ncol_vect:\\n', col_vect)\n",
        "print('\\nAddition of the row vector:\\n', result)\n",
        "result = np.add(x1, col_vect)\n",
        "print('\\nAddition of the column vector:\\n', result)"
      ]
    },
    {
      "cell_type": "markdown",
      "metadata": {
        "id": "gwrsW65dwQXu"
      },
      "source": [
        "Another key difference with Matlab is that the \"`*`\" operator won't give us matrix multiplication. It will instead compute an element-wise multiplication. Again, NumPy has a built-in function for this purpose that will guarantee propper handling of errors."
      ]
    },
    {
      "cell_type": "code",
      "execution_count": null,
      "metadata": {
        "id": "cyIgS3EfwQXu"
      },
      "outputs": [],
      "source": [
        "# We can perform element-wise multiplication by using the * operator:\n",
        "x1 = np.arange(9).reshape((3, 3))\n",
        "x2 = np.ones((3, 3)) * 2 # a 3x3 array with 2s in every element\n",
        "result = x1 * x2\n",
        "print('x1:\\n', x1, '\\n\\nx2:\\n', x2)\n",
        "print('\\nElement-wise multiplication of x1 and x2 using the * operator:\\n', result)\n",
        "\n",
        "# or by using the built-in numpy function:\n",
        "result = np.multiply(x1, x2)\n",
        "print('\\nElement-wise multiplication of x1 and x2 using built-in functions:\\n', result)\n"
      ]
    },
    {
      "cell_type": "markdown",
      "metadata": {
        "id": "ngzyOa61toDI"
      },
      "source": [
        "We can use the \"`**`\" operator or the method `.power()`\n",
        "to raise elements from a matrix to a given power, or to raise elements of one matrix to positionally-corresponding powers in another matrix.\n",
        "\n",
        "\n"
      ]
    },
    {
      "cell_type": "code",
      "execution_count": null,
      "metadata": {
        "id": "JdqFwK6Wt0g9"
      },
      "outputs": [],
      "source": [
        "  M = np.array([[1,2,3],[4,5,6]])\n",
        "  print (M**2) #square each element of M\n",
        "\n",
        "  print(\"\\n\", np.power(M,2))"
      ]
    },
    {
      "cell_type": "markdown",
      "metadata": {
        "id": "14ZfTgXNt5U-"
      },
      "source": [
        "Element-wise division between matrices is performed by using the ''`/`'' operator or the method `.divide()`."
      ]
    },
    {
      "cell_type": "code",
      "execution_count": null,
      "metadata": {
        "id": "iDiLCo-Tt-9_"
      },
      "outputs": [],
      "source": [
        "print(M/2)\n",
        "M_div = np.divide(M,2)\n",
        "\n",
        "print(\"\\n\",M_div)\n"
      ]
    },
    {
      "cell_type": "markdown",
      "metadata": {
        "id": "xxBTtm-WunIP"
      },
      "source": [
        "Some other examples..."
      ]
    },
    {
      "cell_type": "code",
      "execution_count": null,
      "metadata": {
        "id": "EUrX4dHAulae"
      },
      "outputs": [],
      "source": [
        "print(np.log(M))\n",
        "print(np.exp(M))"
      ]
    },
    {
      "cell_type": "markdown",
      "metadata": {
        "id": "wiJs4QVkwQXv"
      },
      "source": [
        "## 2.6 Matrix multiplication, inversion and pseudo-inverse\n",
        "\n",
        "NumPy also gives us methods to perform matrix multiplications and dot products. The method `.dot()` is very powerful and can perform a number of different operations depending on the nature of the input arguments. For example, if we give it a pair of matrices of adequate dimensions, it will perform the same operation as `.matmul()`."
      ]
    },
    {
      "cell_type": "code",
      "execution_count": null,
      "metadata": {
        "id": "TXqbq0b7wQXv",
        "scrolled": false
      },
      "outputs": [],
      "source": [
        "x1 = np.arange(9).reshape((3, 3))\n",
        "x2 = np.ones((3, 3)) * 2 # a 3x3 array with 2s in every cell\n",
        "result = np.matmul(x1, x2)\n",
        "print('x1:\\n', x1, '\\n\\nx2:\\n', x2)\n",
        "print('\\nProduct of x1 and x2 using np.matmul():\\n', result)\n",
        "\n",
        "result = np.dot(x1, x2)\n",
        "print('\\nProduct of x1 and x2 using np.dot():\\n', result, '\\n')"
      ]
    },
    {
      "cell_type": "code",
      "execution_count": null,
      "metadata": {
        "id": "bvjSKLZ34pB3"
      },
      "outputs": [],
      "source": [
        "# Read the np.dot() documentation for more information:\n",
        "help(np.dot)"
      ]
    },
    {
      "cell_type": "markdown",
      "metadata": {
        "id": "I4BjiqxzwQXv"
      },
      "source": [
        "Finally, we can transpose a matrix by using the method `.transpose()` or its abbreviated version `.T`. "
      ]
    },
    {
      "cell_type": "code",
      "execution_count": null,
      "metadata": {
        "id": "blZE-88EwQXv"
      },
      "outputs": [],
      "source": [
        "# Three different ways of transposing a matrix:\n",
        "x1 = np.arange(9).reshape((3, 3))\n",
        "print('x1:\\n', x1)\n",
        "print('\\nTranspose of x1 using the numpy function:\\n', np.transpose(x1))\n",
        "print('\\nTranspose of x1 using the abbreviated form:\\n', x1.T)\n",
        "print('\\nOddly enough, both methods produce the same result!')"
      ]
    },
    {
      "cell_type": "markdown",
      "metadata": {
        "id": "a7cF8EYOwQXw"
      },
      "source": [
        "## 2.7 Determinant and matrix inversion\n",
        "\n",
        "Let it be `M2` as follows:"
      ]
    },
    {
      "cell_type": "code",
      "execution_count": null,
      "metadata": {
        "id": "wQUUuMrfwQXx"
      },
      "outputs": [],
      "source": [
        "M = np.random.randn(3,4)\n",
        "M2=np.dot(M,M.transpose())"
      ]
    },
    {
      "cell_type": "markdown",
      "metadata": {
        "id": "uBEB4ublw8CN"
      },
      "source": [
        "How to compute the determinant of a matrix `M2`?"
      ]
    },
    {
      "cell_type": "code",
      "execution_count": null,
      "metadata": {
        "id": "3svvqFvAw5it"
      },
      "outputs": [],
      "source": [
        "print('The determinant of M2 is:', (np.linalg.det(M2)))"
      ]
    },
    {
      "cell_type": "markdown",
      "metadata": {
        "id": "FuHzBMsJxAm-"
      },
      "source": [
        "And its inverse?"
      ]
    },
    {
      "cell_type": "code",
      "execution_count": null,
      "metadata": {
        "id": "74E91NsExHEa"
      },
      "outputs": [],
      "source": [
        "M2I = np.linalg.inv(M2)\n",
        "print('The inverse of M2 is:\\n', M2I)"
      ]
    },
    {
      "cell_type": "code",
      "execution_count": null,
      "metadata": {
        "id": "KvxwuxPi8lPF"
      },
      "outputs": [],
      "source": [
        "#Let's check that the result is correct! (Note: In python 3.X, `np.dot` can  be replaced by `@`). Is the result equal to the identity matrix?\n",
        "print(M2@M2I) "
      ]
    },
    {
      "cell_type": "markdown",
      "metadata": {
        "id": "Tbwv2dUG8wP4"
      },
      "source": [
        "### 2.7.1 Pseudoinverse"
      ]
    },
    {
      "cell_type": "markdown",
      "metadata": {
        "id": "1XHp6mQUwQXx"
      },
      "source": [
        "In mathematics, and in particular linear algebra, **a pseudoinverse** $A^+$ of a matrix $A$ is a generalization of the inverse matrix. The most widely known type of matrix pseudoinverse is the [Moore–Penrose inverse](http://mathworld.wolfram.com/Moore-PenroseMatrixInverse.html). \n",
        "\n",
        "When $A$ has linearly independent rows, i.e. $AA^*$ is invertible where $A^*$ is the Hermitian transpose, then the Pseudo-inverse $A^+$ can be computed as follows:\n",
        "\n",
        "$$ A^+ = A^* (AA^*)^{-1} $$\n",
        "\n",
        "and it verifies that $AA^+ =I$.\n"
      ]
    },
    {
      "cell_type": "code",
      "execution_count": null,
      "metadata": {
        "id": "q1-pJXCfwQXx"
      },
      "outputs": [],
      "source": [
        "M2PSI = np.linalg.pinv(M)\n",
        "\n",
        "print(M@M2PSI)\n",
        "\n",
        "print('\\nSum of the diagonal elements:', round(np.trace(M @ M2PSI),1))\n",
        "print('Sum of the out diagonal elements:',round(np.trace(M @ M2PSI)-np.sum(M @ M2PSI),1)) # Sum of out diagonal elements"
      ]
    },
    {
      "cell_type": "markdown",
      "metadata": {
        "id": "gVfCNhXNfr2h"
      },
      "source": [
        "# 3. Saving data with NumPy methods\n",
        "\n",
        "The `.save()` method saves a NumPy array to a file, and the `.load()` method loads a NumPy array from a file. We need to specify the `.npy` extension for the files in both methods. \n",
        "\n",
        "The `.save()` method takes the name of the file and the array to save as input parameters and saves the array into the the specified file. The `.load()` method takes the filename as an input parameter and returns the array. Let's see an example.\n",
        " "
      ]
    },
    {
      "cell_type": "code",
      "execution_count": null,
      "metadata": {
        "id": "LSkPYK-ejBMK"
      },
      "outputs": [],
      "source": [
        "array = np.array([1, 3, 5, 7])\n",
        "\n",
        "#Save the array in the file \"test.npy\"\n",
        "np.save('test.npy', array)\n",
        "\n",
        "#Load \"test.npy\" and return array2\n",
        "array2 = np.load('test.npy')\n",
        "\n",
        "#Are array and array2 the same?\n",
        "print(\"Are the two arrays (array and array2) equal?:\", np.array_equiv(array,array2))"
      ]
    },
    {
      "cell_type": "markdown",
      "metadata": {
        "id": "JN1NWgC-wQXz"
      },
      "source": [
        "# 4. Matplotlib\n",
        "\n",
        "[Matplotlib](https://matplotlib.org/) is a Python 2D plotting library which produces figures in a variety of formats. Matplotlib can be used in Python scripts, the Python and IPython shells, the Jupyter notebook and web application servers.\n",
        "\n",
        "Matplotlib tries to make easy things easy and hard things possible. You can generate plots, histograms, power spectra, bar charts, errorcharts, scatterplots, etc., with just a few lines of code. For example, see the sample plots and thumbnail gallery.\n",
        "\n",
        "For simple plotting the `pyplot` module provides a MATLAB-like interface, particularly when combined with IPython. For the power user, you have full control of line styles, font properties, axes properties, etc., via an object oriented interface or via a set of functions familiar to MATLAB users.\n"
      ]
    },
    {
      "cell_type": "code",
      "execution_count": null,
      "metadata": {
        "id": "hP5jTDlywQXz"
      },
      "outputs": [],
      "source": [
        "import matplotlib.pyplot as plt\n",
        "#The following is required to print the plots inside the notebooks\n",
        "%matplotlib inline \n",
        "%config InlineBackend.figure_format = 'retina' #High quality figures"
      ]
    },
    {
      "cell_type": "markdown",
      "metadata": {
        "id": "4jUoDRx2wQXz"
      },
      "source": [
        "## 4.1  Data generation\n",
        "\n",
        "In Python, random samples can be easily generated with the `numpy.random` package. Inside it, we can find many usefull tools to sample from the most important probability distributions.\n",
        "\n",
        "We have common number generator functions:\n",
        "* `numpy.random.rand()`: It **uniformily** generates random samples.\n",
        "* `numpy.random.randn()`: It returns samples from a **standard normal** distribution.\n",
        "\n",
        "Or more specific ones:\n",
        "* `numpy.random.exponential([scale, size])`: It draws samples from an exponential distribution with a given scale parameter.\n",
        "* `numpy.random.normal([loc, scale, size])`:\tIt draws random samples from a normal (Gaussian) distribution with parameters: loc (mean) and scale (standard deviation).\n",
        "* `numpy.random.uniform([low, high, size])`: It draws samples from a uniform distribution in the range low-high.\n",
        "\n",
        "In the following examples we will look at different random generation methods and we will visualize the results. For the time being, you can ignore the visualization code. Later on we will learn how these visualization tools work."
      ]
    },
    {
      "cell_type": "code",
      "execution_count": null,
      "metadata": {
        "id": "IyafNBX1wQXz"
      },
      "outputs": [],
      "source": [
        "# Random samplig examples\n",
        "n = 1000 # number of samples\n",
        "\n",
        "# Sampling from a standard uniform distribution:\n",
        "x_unif = np.random.rand(n)\n",
        "\n",
        "fig1 = plt.figure()\n",
        "plt.hist(x_unif, bins=100)\n",
        "plt.title('Samples from a uniform distribution between 0 and 1')\n",
        "plt.grid()\n",
        "plt.show()\n",
        "\n",
        "# Sampling from a normal distribution:\n",
        "x_norm = np.random.randn(n)\n",
        "\n",
        "fig2 = plt.figure()\n",
        "plt.hist(x_norm, bins=100)\n",
        "plt.title('Samples from a normal distribution with 0 mean and unity variance')\n",
        "plt.grid()\n",
        "plt.show()\n",
        "\n",
        "# Adding Gaussian noise to a linear function:\n",
        "n = 30\n",
        "x = np.linspace(-5, 5, n)\n",
        "noise = np.random.randn(n)\n",
        "y = 3*x\n",
        "y_noise = y + noise\n",
        "\n",
        "fig3 = plt.figure()\n",
        "plt.plot(x, y, color='black', linestyle='--', label='Clean signal')\n",
        "plt.plot(x, y_noise, color='red', label='Noisy signal')\n",
        "plt.legend(loc=4, fontsize='large')\n",
        "plt.title('Visualization of a noisy data-set')\n",
        "plt.grid()\n",
        "plt.show()\n",
        "\n",
        "#See https://matplotlib.org/stable/api/_as_gen/matplotlib.pyplot.plot.html for more options!"
      ]
    },
    {
      "cell_type": "markdown",
      "metadata": {
        "id": "lZFUyiCPwQXz"
      },
      "source": [
        "More about plotting with `matplotlib`."
      ]
    },
    {
      "cell_type": "code",
      "execution_count": null,
      "metadata": {
        "id": "UDbwjka3wQX0"
      },
      "outputs": [],
      "source": [
        "t = np.arange(0.0, 1.0, 0.05) # Time vector, from 0s to 1s in steps of 0.05s.\n",
        "a1 = np.sin(2*np.pi*t) # Samples of the first signal.\n",
        "a2 = np.sin(4*np.pi*t) # Samples of the second signal.\n",
        "\n",
        "# Visualization\n",
        "\n",
        "# We can create a figure that will contain our plots.\n",
        "plt.figure()\n",
        "# We can plot the two signals in different subplots, as in Matlab.\n",
        "\n",
        "# First signal\n",
        "ax1 = plt.subplot(211)\n",
        "ax1.plot(t,a1)\n",
        "plt.title('First sinusoid.')\n",
        "plt.xlabel('t (seconds)')\n",
        "plt.ylabel('a_1(t)')\n",
        "\n",
        "# Second signal\n",
        "ax2 = plt.subplot(212)\n",
        "ax2.plot(t,a2, 'r.')\n",
        "plt.title('Second sinusoid.')\n",
        "plt.xlabel('t (seconds)')\n",
        "plt.ylabel('a_2(t)')\n",
        "\n",
        "\n",
        "# We ensure the two plots won't overlap, and finally we show the results on the \n",
        "# screen.\n",
        "plt.tight_layout()\n",
        "plt.show()"
      ]
    },
    {
      "cell_type": "markdown",
      "metadata": {
        "id": "czn9ANx9wQX0"
      },
      "source": [
        "Let's analyse how we have created the previous figures and in which things they differ:\n",
        "\n",
        "\n",
        "\n",
        "*   A crucial aspect to consider is that **both curves represent a set of discrete samples** (the samples we've generated). While the second plot uses red dots to represent the data (specified through `'r.'`), the first one will draw the points using the standard blue line. As in Matlab, using lines to plot samples will interpolate them by default. If we don't want Matplotlib to do so, we can specify a different symbol, like dots, squares, etc.\n",
        "*   We can label the axis and set titles, enhancing the way in which our data is presented. Moreover, we can improve the clarity of a figure by including or modyfing the line width, colours, symbols, legends, and a big etcetera. \n",
        "\n",
        "Look at the following figure and try to catch which argument and/or piece of code is related with each feature. It's intuitive! You can modify the parameters and see what's the new outcome. \n"
      ]
    },
    {
      "cell_type": "code",
      "execution_count": null,
      "metadata": {
        "id": "dT6pRKcuwQX1"
      },
      "outputs": [],
      "source": [
        "t = np.arange(0.0, 3, 0.05)\n",
        "a1 = np.sin(2*np.pi*t)+t \n",
        "a2 = np.ones(a1.shape)*t\n",
        "\n",
        "plt.figure()\n",
        "# We are going to plot two signals in the same figure. For each one we can\n",
        "# specify colors, symbols, width, and the label to be displayed in a legend.\n",
        "# Use the Matplotlib docs if you want to know all the things you can do. \n",
        "plt.plot(t,a1,'r--',LineWidth=2, label='Sinusoidal') \n",
        "plt.plot(t,a2, 'k:', label='Straight Line')\n",
        "\n",
        "\n",
        "plt.title('Playing with different parameters')\n",
        "plt.ylabel('Amplitude')\n",
        "plt.xlabel('Time (seconds)')\n",
        "\n",
        "# By default, axis limits will coincide with the highest/lowest values in our \n",
        "# vectors. However, we can specify ranges for x and y.\n",
        "plt.xlim((-0.5, 3))\n",
        "plt.ylim((-0.5, 4))\n",
        "\n",
        "# When plotting more than one curve in a single figure, having a legend is a \n",
        "# good practice. You can ask Matplotlib to place it in the \"best\" position\n",
        "# (trying not to overlap the lines), or you can specify positions like\n",
        "# \"upper left\", \"lower right\"... check the docs!\n",
        "plt.legend(loc='best')\n",
        "\n",
        "# We can draw the origin lines, to separate the bidimensional space in four \n",
        "# quadrants.\n",
        "plt.axhline(0,color='black')\n",
        "plt.axvline(0, color='black')\n",
        "\n",
        "# We can also set a grid with different styles... \n",
        "plt.grid(color='grey', linestyle='--', linewidth=0.8)\n",
        "\n",
        "# And specify the \"ticks\", i.e., the values which are going to be specified in \n",
        "# the axis, where the grid method is placing lines. \n",
        "plt.xticks(np.arange(-0.5, 3, 0.5)) # In x, put a value each 0.5.\n",
        "plt.yticks(np.arange(-0.5, 4, 1)) # In y, put a value each 1. \n",
        "\n",
        "# Finally, plot all the previous elements. \n",
        "plt.show()\n"
      ]
    },
    {
      "cell_type": "markdown",
      "metadata": {
        "id": "oIwFr7uCwQX1"
      },
      "source": [
        "In just a single example we have seen a lot of Matplotlib functionalities that can be easely tuned. You have all you need to draw decent figures. However, those of you who want to learn more about Matplotlib can take a look at [AnatomyOfMatplotlib](https://github.com/matplotlib/AnatomyOfMatplotlib), a collection of notebooks in which you will explore more in depth Matplotlib. \n",
        "\n",
        "Consider `x` a vector containing samples coming from a 1D random variable. A histogram is a figure in which we represent the observed frequencies of different ranges of the `x` domain. We can express them as relative frequencies (summing up to 1) or absolute frequencies (counting events). \n",
        "\n",
        "We can adapt the number and size of intervals (called bins) to directly affect the resolution of the plot. \n",
        "\n",
        "When we have a sufficiently high number of random samples coming from the same distribution, its histogram is expected to have a similar shape to the theoretical expression corresponding to the density of this distribution. \n",
        "\n",
        "In Matplotlib, we have already plotted histograms, with `plt.hist(samples,bins=)`.\n",
        "\n",
        "Let's see some examples."
      ]
    },
    {
      "cell_type": "code",
      "execution_count": null,
      "metadata": {
        "id": "2P6Ux0rVwQX1"
      },
      "outputs": [],
      "source": [
        "# We take samples from a normalized gaussian distribution, and we change\n",
        "# mean and variance with an operation.\n",
        "sigma = 4\n",
        "mn = 5\n",
        "#x_gauss = mn + np.sqrt(sigma)*np.random.randn(5000)\n",
        "x_gauss = np.random.normal(mn, sigma/2, 5000) #(easy way!!!)\n",
        "\n",
        "\n",
        "# Let's obtain an histogram with high resultion, that is, a lot of bins.\n",
        "fig1 = plt.figure()\n",
        "plt.hist(x_gauss, bins=100,label='Samples')\n",
        "plt.title('Histogram with 100 bins')\n",
        "\n",
        "# With vertical lines, we plot the mean and the intervals obtain summing one \n",
        "# standard deviation to the mean. \n",
        "plt.axvline(x=np.mean(x_gauss),color='k',linestyle='--',label='Mean')\n",
        "plt.axvline(x=np.mean(x_gauss)+np.std(x_gauss),color='grey',linestyle='--',label='Mean +/- std')\n",
        "plt.axvline(x=np.mean(x_gauss)-np.std(x_gauss),color='grey',linestyle='--')\n",
        "\n",
        "\n",
        "plt.legend(loc='best')\n",
        "plt.show()\n",
        "\n",
        "# We check that the mean and variance of the samples is aprox. the original one.\n",
        "print('Sample mean = ', x_gauss.mean())\n",
        "print('Sample variance = ', x_gauss.var())\n",
        "\n",
        "# Now let's plot a low resolution histogram, with just a few bins.\n",
        "fig2 = plt.figure()\n",
        "\n",
        "# We can set weights in this way to obtain a normalized histogram, i.e.,\n",
        "# expressing relative frequencies. \n",
        "w_n = np.zeros_like(x_gauss) + 1. / x_gauss.size\n",
        "\n",
        "plt.hist(x_gauss, bins=10,label='Samples',weights=w_n)\n",
        "plt.title('Histogram with 10 bins')\n",
        "plt.axvline(x=np.mean(x_gauss),color='k',linestyle='--',label='Mean')\n",
        "plt.axvline(x=np.mean(x_gauss)+np.std(x_gauss),color='grey',linestyle='--',label='Mean +/- std')\n",
        "plt.axvline(x=np.mean(x_gauss)-np.std(x_gauss),color='grey',linestyle='--')\n",
        "plt.legend(loc='best')\n",
        "plt.show()\n",
        "\n",
        "# A different resolution leads to different representations, but don't forget\n",
        "# that we are plotting the same samples.\n",
        "\n",
        "print('Sample mean = ', x_gauss.mean())\n",
        "print('Sample variance = ', x_gauss.var())\n"
      ]
    },
    {
      "cell_type": "markdown",
      "metadata": {
        "id": "6xaVQ6IBwQX1"
      },
      "source": [
        "## 4.2 More examples"
      ]
    },
    {
      "cell_type": "markdown",
      "metadata": {
        "id": "ZJc5UNri_6wr"
      },
      "source": [
        "### 4.2.1 Bar plot\n",
        "\n",
        "The following code represents a bar plot with some predefined labels.\n"
      ]
    },
    {
      "cell_type": "code",
      "execution_count": null,
      "metadata": {
        "id": "jw_SWB_CwQX1"
      },
      "outputs": [],
      "source": [
        "labels = ['A','B','C','D','E','F','G']\n",
        "values = np.array([1,2,5,8,5,1,0])\n",
        "\n",
        "width = 0.35  # Bar width\n",
        "\n",
        "x = np.arange(len(labels))\n",
        "\n",
        "fig, ax = plt.subplots()\n",
        "rect = ax.bar(x, values, width=width)\n",
        "plt.grid(b=True, which='major', color='gray', alpha=0.6, linestyle='dotted', lw=1.5)\n",
        "plt.xticks(x,labels)\n",
        "plt.ylabel('Values')\n",
        "plt.title('A bar plot')\n",
        "plt.show()\n"
      ]
    },
    {
      "cell_type": "markdown",
      "metadata": {
        "id": "LkAbttAwwQX2"
      },
      "source": [
        "### 4.2.2 Array of plots and text over figures\n",
        "\n",
        "You can easily create arrays of plots to visualize them together. Here's an example. Also, we show how to include anotations in the figures."
      ]
    },
    {
      "cell_type": "code",
      "execution_count": null,
      "metadata": {
        "id": "poK5nFljwQX2"
      },
      "outputs": [],
      "source": [
        "def f(t):\n",
        "    return np.exp(-t) * np.cos(2*np.pi*t)\n",
        "\n",
        "t1 = np.arange(0.0, 5.0, 0.1)\n",
        "t2 = np.arange(0.0, 5.0, 0.02)\n",
        "\n",
        "plt.figure()\n",
        "plt.subplot(211)\n",
        "plt.plot(t1, f(t1), 'bo', t2, f(t2), 'k')\n",
        "num_figure = 1\n",
        "plt.annotate('local max', xy=(1, f(1)), xytext=(1.25, 0.85),\n",
        "             arrowprops=dict(facecolor='red', width = 1))\n",
        "plt.text(4, 0.75, \"Figura {0:d}\".format(num_figure))\n",
        "plt.grid()\n",
        "\n",
        "plt.subplot(212)\n",
        "plt.plot(t2, np.cos(2*np.pi*t2), 'r--')\n",
        "\n",
        "plt.text(6, 0, \"Figure {0:d}\".format(num_figure+1), style='italic',\n",
        "        bbox={'facecolor': 'blue', 'alpha': 0.1, 'pad': 10})\n",
        "plt.grid()\n",
        "plt.show()"
      ]
    },
    {
      "cell_type": "markdown",
      "metadata": {
        "id": "hZkbK1eCwQX2"
      },
      "source": [
        "### 4.2.3 Contour and surface plots\n",
        "\n",
        "These plots are handy to represent functions over 2D spaces. \n"
      ]
    },
    {
      "cell_type": "code",
      "execution_count": null,
      "metadata": {
        "id": "XIBkL2w0wQX2"
      },
      "outputs": [],
      "source": [
        "# We consider the following function with 2D inputs\n",
        "\n",
        "def f(x,y):\n",
        "    return np.exp((+x**2-y**2+x*y+x-y)/20)"
      ]
    },
    {
      "cell_type": "code",
      "execution_count": null,
      "metadata": {
        "id": "yuLhek4jwQX2"
      },
      "outputs": [],
      "source": [
        "from mpl_toolkits.mplot3d import Axes3D\n",
        "\n",
        "# Lets start with a contour plot\n",
        "\n",
        "grid_points = 100\n",
        "lims = 4\n",
        "# Grid of grid_points**2 points in the [-2,2] square\n",
        "x,y = np.mgrid[-lims:lims:2*lims/grid_points, -lims:lims:2*lims/grid_points]\n",
        "grid = np.transpose(np.row_stack([x.ravel(), y.ravel()]))\n",
        "\n",
        "# Lets evaluate the function over the grid\n",
        "\n",
        "f_grid = f(grid[:,0],grid[:,1]).reshape([grid_points,grid_points])\n",
        "\n",
        "fig = plt.figure(figsize=(6, 18))\n",
        "\n",
        "# Contour lines\n",
        "plt.subplot(311)\n",
        "plt.contour(x,y,f_grid,np.arange(0,1,0.05),cmap='coolwarm') # We plot the 0, 0.1, 0.2, ..., 1.0 contour lines\n",
        "plt.colorbar()\n",
        "plt.grid()\n",
        "plt.title(\"Contour lines\")\n",
        "\n",
        "# Contour plot\n",
        "plt.subplot(312)\n",
        "plt.contourf(x,y,f_grid,cmap='coolwarm') \n",
        "plt.colorbar()\n",
        "plt.grid()\n",
        "plt.title(\"Contour plot\")\n",
        "\n",
        "# Surface plot\n",
        "ax = fig.add_subplot(3, 1, 3, projection='3d')\n",
        "ax.plot_surface(x,y,f_grid,cmap='coolwarm') \n",
        "plt.colorbar()\n",
        "plt.grid()\n",
        "plt.title(\"Surface plot\")\n",
        "\n",
        "plt.show()\n",
        "\n"
      ]
    }
  ],
  "metadata": {
    "anaconda-cloud": {},
    "colab": {
      "collapsed_sections": [
        "6qfb1sZdwQXo",
        "aQe00mL9wQXp",
        "8ij7l0tDwQXr",
        "Wu7j_TXzwQXs",
        "wiJs4QVkwQXv",
        "a7cF8EYOwQXw",
        "IS3WbxgCwQXx",
        "foX6-DwLwQXy",
        "4jUoDRx2wQXz",
        "6xaVQ6IBwQX1",
        "LkAbttAwwQX2",
        "hZkbK1eCwQX2"
      ],
      "provenance": []
    },
    "kernelspec": {
      "display_name": "Python 3.10.6 64-bit",
      "language": "python",
      "name": "python3"
    },
    "language_info": {
      "codemirror_mode": {
        "name": "ipython",
        "version": 3
      },
      "file_extension": ".py",
      "mimetype": "text/x-python",
      "name": "python",
      "nbconvert_exporter": "python",
      "pygments_lexer": "ipython3",
      "version": "3.10.6"
    },
    "vscode": {
      "interpreter": {
        "hash": "916dbcbb3f70747c44a77c7bcd40155683ae19c65e1c03b4aa3499c5328201f1"
      }
    }
  },
  "nbformat": 4,
  "nbformat_minor": 0
}
