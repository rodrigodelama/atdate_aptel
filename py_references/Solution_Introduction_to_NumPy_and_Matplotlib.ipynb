{
  "nbformat": 4,
  "nbformat_minor": 0,
  "metadata": {
    "colab": {
      "provenance": []
    },
    "kernelspec": {
      "name": "python3",
      "display_name": "Python 3"
    },
    "language_info": {
      "name": "python"
    }
  },
  "cells": [
    {
      "cell_type": "code",
      "source": [
        "import numpy as np"
      ],
      "metadata": {
        "id": "SlZoYGS7ZNNp"
      },
      "execution_count": null,
      "outputs": []
    },
    {
      "cell_type": "markdown",
      "source": [
        "## 2.3 Indexing and slicing"
      ],
      "metadata": {
        "id": "t3DyiXWGZRJc"
      }
    },
    {
      "cell_type": "code",
      "source": [
        "F = np.array([1, 1, 2, 3, 5, 8, 13, 21])"
      ],
      "metadata": {
        "id": "StygGIa5xYNd"
      },
      "execution_count": null,
      "outputs": []
    },
    {
      "cell_type": "code",
      "source": [
        "# Print the first element of F\n",
        "print(F[0])"
      ],
      "metadata": {
        "id": "E2gU24tTxaFu"
      },
      "execution_count": null,
      "outputs": []
    },
    {
      "cell_type": "code",
      "source": [
        "# Print the last element of F\n",
        "print(F[-1])"
      ],
      "metadata": {
        "id": "_VCRmcTmxdle"
      },
      "execution_count": null,
      "outputs": []
    },
    {
      "cell_type": "markdown",
      "source": [
        "> **Exercise 1**: "
      ],
      "metadata": {
        "id": "v-GcM2ubZc0q"
      }
    },
    {
      "cell_type": "code",
      "execution_count": null,
      "metadata": {
        "id": "7GZRzbz_YxIs"
      },
      "outputs": [],
      "source": [
        "x = np.array([-3,-2,-1,0,1,2,3])\n",
        "\n",
        "# Create a new vector `y` with the elements of x, but replacing by 0 each number whose\n",
        "# absolute value is 2 or less.\n",
        "\n",
        "y = np.copy(x) # CAUTION! Doing y = x will create two pointers to the same array.\n",
        "condition = np.abs(x)<=2 \n",
        "y[np.where(condition)[0]]=0\n",
        "# Note that np.where() returns a tuple. In this case the second element of the \n",
        "# tuple is empty. Read the np.where() docstring for more info.\n",
        "\n",
        "print('Before conditioning: \\n',x)\n",
        "print('\\nAfter conditioning: \\n',y)"
      ]
    },
    {
      "cell_type": "markdown",
      "source": [
        "## Concatenating arrays"
      ],
      "metadata": {
        "id": "j32XYPqJi3I2"
      }
    },
    {
      "cell_type": "markdown",
      "source": [
        "> **Exercise**: Complete the following exercises to practice matrix concatenation."
      ],
      "metadata": {
        "id": "rp5Wl8bdi7La"
      }
    },
    {
      "cell_type": "code",
      "source": [
        "my_array = np.array([[1, -1, 3, 3],[2, 2, 4, 6]])\n",
        "print('Array 1:')\n",
        "print(my_array)\n",
        "print(my_array.shape)\n",
        "\n",
        "my_array2 = np.ones((2,3))\n",
        "print('Array 2:')\n",
        "print(my_array2)\n",
        "print(my_array2.shape)\n",
        "\n",
        "\n",
        "# Vertically stack matrix my_array with itself\n",
        "ex1_res = np.vstack((my_array, my_array))\n",
        "print('Vertically stack:')\n",
        "print(ex1_res)\n",
        "\n",
        "# Horizontally stack matrix my_array and my_array2\n",
        "ex2_res = np.hstack((my_array, my_array2))\n",
        "print('Horizontally stack:')\n",
        "print(ex2_res)\n",
        "\n",
        "# Transpose the vector `my_array`, and then stack a ones vector\n",
        "# as the first column. Alternatively, you can stack a row, and then transpose. \n",
        "# Just make sure that the final shape is (4,3). Name it `expanded`:\n",
        "\n",
        "ones_v = np.ones((4,1))\n",
        "expanded = np.hstack((my_array.T, ones_v))\n",
        "\n",
        "print('Expanded array: \\n',expanded)\n",
        "print('Its shape is: \\n', expanded.shape)"
      ],
      "metadata": {
        "id": "i8Cb-qw9iyQa"
      },
      "execution_count": null,
      "outputs": []
    }
  ]
}