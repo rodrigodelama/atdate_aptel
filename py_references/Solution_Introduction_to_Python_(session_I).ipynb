{
  "cells": [
    {
      "cell_type": "markdown",
      "metadata": {
        "id": "SrdpCL6AOkBa"
      },
      "source": [
        "# Getting started with Python: Numbers"
      ]
    },
    {
      "cell_type": "markdown",
      "metadata": {
        "id": "Vb9tVFoYOFl0"
      },
      "source": [
        "**Exercise 1**"
      ]
    },
    {
      "cell_type": "code",
      "execution_count": null,
      "metadata": {
        "id": "RYrhTIxknozI"
      },
      "outputs": [],
      "source": [
        "net_price = 750\n",
        "VAT = 21\n",
        "final_price = net_price + (net_price*VAT)/100\n",
        "print('The final price is :', final_price)"
      ]
    },
    {
      "cell_type": "markdown",
      "metadata": {
        "id": "-4xpcyXlOX8q"
      },
      "source": [
        "**Exercise 2**"
      ]
    },
    {
      "cell_type": "code",
      "execution_count": null,
      "metadata": {
        "id": "ML0WreX7otCw"
      },
      "outputs": [],
      "source": [
        "import math\n",
        "x=10\n",
        "y=(x/2)*math.exp(x**2)+1\n",
        "\n",
        "print(y)"
      ]
    },
    {
      "cell_type": "markdown",
      "metadata": {
        "id": "_iswZ0-hQMCu"
      },
      "source": [
        "# Booleans in Python"
      ]
    },
    {
      "cell_type": "markdown",
      "metadata": {
        "id": "rPmCnsEBQQZp"
      },
      "source": [
        "**Exercise 3**"
      ]
    },
    {
      "cell_type": "markdown",
      "metadata": {
        "id": "yYe2YOoPUM-m"
      },
      "source": [
        "## String concatenation"
      ]
    },
    {
      "cell_type": "markdown",
      "metadata": {
        "id": "SnC4vX9IUP3m"
      },
      "source": [
        "**Exercises**"
      ]
    },
    {
      "cell_type": "code",
      "execution_count": null,
      "metadata": {
        "id": "Wvr9j7t_xfEC"
      },
      "outputs": [],
      "source": [
        "str1 = \"\\\"Hola\\\" is how we say \\\"hello\\\" in Spanish.\"\n",
        "print(str1)\n",
        "type(str1)"
      ]
    },
    {
      "cell_type": "code",
      "execution_count": null,
      "metadata": {
        "id": "fz5jg5zxxuv4"
      },
      "outputs": [],
      "source": [
        "print(str1[:5])"
      ]
    },
    {
      "cell_type": "code",
      "execution_count": null,
      "metadata": {
        "id": "WKMg1BgRx0WB"
      },
      "outputs": [],
      "source": [
        "str2 = \"Strings can also be defined with quotes; try to be sistematic and consistent.\"\n",
        "print(str2)"
      ]
    },
    {
      "cell_type": "code",
      "execution_count": null,
      "metadata": {
        "id": "7vi5PAy-x9mX"
      },
      "outputs": [],
      "source": [
        "str_total = str1+\" \"+str2\n",
        "print(str_total)"
      ]
    },
    {
      "cell_type": "code",
      "execution_count": null,
      "metadata": {
        "id": "vqipj3uhUqD_"
      },
      "outputs": [],
      "source": [
        "str1_low = str1.lower()\n",
        "print(str1_low)"
      ]
    },
    {
      "cell_type": "code",
      "execution_count": null,
      "metadata": {
        "id": "kSwys5ixyLTd"
      },
      "outputs": [],
      "source": [
        "str1_cap = str1.upper()\n",
        "print(str1_cap)"
      ]
    },
    {
      "cell_type": "code",
      "execution_count": null,
      "metadata": {
        "id": "o2ztlqQTy735"
      },
      "outputs": [],
      "source": [
        "len(str1)"
      ]
    },
    {
      "cell_type": "code",
      "execution_count": null,
      "metadata": {
        "id": "T8F3pBGTy_o2"
      },
      "outputs": [],
      "source": [
        "str1_H = str1.replace('h','H')\n",
        "print(str1_H)\n"
      ]
    },
    {
      "cell_type": "markdown",
      "metadata": {
        "id": "3PwSnQTUrufo"
      },
      "source": [
        "## Tuples in Python"
      ]
    },
    {
      "cell_type": "markdown",
      "metadata": {
        "id": "ZFik3Gadr0S_"
      },
      "source": [
        "**Exercises with tuples**"
      ]
    },
    {
      "cell_type": "code",
      "execution_count": null,
      "metadata": {
        "id": "8eAHE1a3Glpj"
      },
      "outputs": [],
      "source": [
        "tuple1 = tuple((\"apple\", 1))\n",
        "tuple2 = tuple((\"banana\", 1))\n",
        "tuple3 = tuple((\"apple\", 2))\n",
        "tuple4 = tuple((\"melon\", 1))\n",
        "tuple5 = tuple((\"pineapple\",2))\n",
        "tuple6 = tuple((\"banana\", 2))\n",
        "my_tuple =(tuple1, tuple2, tuple3, tuple4, tuple5, tuple6)\n",
        "print(my_tuple)"
      ]
    },
    {
      "cell_type": "code",
      "execution_count": null,
      "metadata": {
        "id": "eRBUS3kDHi8_"
      },
      "outputs": [],
      "source": [
        "elements = len(my_tuple)\n",
        "n_apples = 0\n",
        "n_bananas = 0\n",
        "n_melons = 0\n",
        "for ind in range(elements):\n",
        "  if my_tuple[ind][0]=='apple':\n",
        "    n_apples = n_apples + my_tuple[ind][1]\n",
        "  elif my_tuple[ind][0]=='banana':\n",
        "    n_bananas = n_bananas + my_tuple[ind][1]\n",
        "  elif my_tuple[ind][0]=='melon':\n",
        "    n_melons = n_melons + my_tuple[ind][1]\n",
        "print('The total number of apples is: ', n_apples)\n",
        "print('The total number of bananas is: ', n_bananas)\n",
        "print('The total number of melons is: ', n_melons)"
      ]
    },
    {
      "cell_type": "markdown",
      "metadata": {
        "id": "MZ276793vV4a"
      },
      "source": [
        "## Python dictionaries "
      ]
    },
    {
      "cell_type": "markdown",
      "metadata": {
        "id": "zfgQLHLUvaPt"
      },
      "source": [
        "**Exercises**"
      ]
    },
    {
      "cell_type": "code",
      "execution_count": null,
      "metadata": {
        "id": "pkB4zdWDOs1k"
      },
      "outputs": [],
      "source": [
        "classmates={'Maria':'Telecomunication Eng', 'Pablo': 'Biomedical Eng', 'Marta':'Biomedical Eng', 'Ana': 'Computer Science', 'Antonio' :'Telecomunication Eng'}\n",
        "print(classmates)"
      ]
    },
    {
      "cell_type": "code",
      "execution_count": null,
      "metadata": {
        "id": "L3g8h5pMO4Pp"
      },
      "outputs": [],
      "source": [
        "#Which degree has Ana studied?\n",
        "print(classmates[\"Ana\"])"
      ]
    },
    {
      "cell_type": "code",
      "execution_count": null,
      "metadata": {
        "id": "NNNJGR--O_vK"
      },
      "outputs": [],
      "source": [
        "#Update your dictionary with the information of another classmate?\n",
        "classmates.update({\"Juan\":'Biomedical Eng'})\n",
        "print(classmates)"
      ]
    },
    {
      "cell_type": "code",
      "execution_count": null,
      "metadata": {
        "id": "G8vUcriMvqLT"
      },
      "outputs": [],
      "source": [
        "#List the names of all the classmates in your dictionary\n",
        "print(classmates.keys())"
      ]
    },
    {
      "cell_type": "code",
      "execution_count": null,
      "metadata": {
        "id": "1M9Ct6QcQAky"
      },
      "outputs": [],
      "source": [
        "#How many people studied Biomedical Engineering?\n",
        "from collections import Counter\n",
        "res = Counter(classmates.values())\n",
        "print(res['Biomedical Eng'])\n"
      ]
    },
    {
      "cell_type": "markdown",
      "metadata": {
        "id": "tiKKi6VhxFQd"
      },
      "source": [
        "# User defined functions"
      ]
    },
    {
      "cell_type": "code",
      "execution_count": null,
      "metadata": {
        "id": "OJ6NQSTMUvIH"
      },
      "outputs": [],
      "source": [
        "def my_factorial(n):\n",
        "    if n > 1:\n",
        "        return n * my_factorial(n - 1)\n",
        "    else:\n",
        "        return 1"
      ]
    },
    {
      "cell_type": "code",
      "execution_count": null,
      "metadata": {
        "id": "czyFuTAexlnb"
      },
      "outputs": [],
      "source": [
        "my_factorial(3)"
      ]
    },
    {
      "cell_type": "code",
      "execution_count": null,
      "metadata": {
        "id": "yQdD8F3LxxG7"
      },
      "outputs": [],
      "source": [
        "# Let's try it out!\n",
        "from math import factorial\n",
        "x = int(input('Please enter an integer: '))\n",
        "if my_factorial(x) == factorial(x):\n",
        "  print(x, '! = ', my_factorial(x))\n",
        "  print('It works!')\n",
        "else:\n",
        "  print(\"Something's not working...\" )"
      ]
    }
  ],
  "metadata": {
    "colab": {
      "provenance": []
    },
    "kernelspec": {
      "display_name": "Python 3.10.6 64-bit",
      "language": "python",
      "name": "python3"
    },
    "language_info": {
      "name": "python",
      "version": "3.10.6"
    },
    "vscode": {
      "interpreter": {
        "hash": "916dbcbb3f70747c44a77c7bcd40155683ae19c65e1c03b4aa3499c5328201f1"
      }
    }
  },
  "nbformat": 4,
  "nbformat_minor": 0
}
